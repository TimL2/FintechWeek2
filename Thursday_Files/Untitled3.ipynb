{
 "cells": [
  {
   "cell_type": "code",
   "execution_count": 1,
   "id": "028c4925-4f7a-4eae-b48d-4d94855b7e6a",
   "metadata": {},
   "outputs": [],
   "source": [
    "my_dict = {}"
   ]
  },
  {
   "cell_type": "code",
   "execution_count": 2,
   "id": "e9b1e97a-47a0-4557-bc8c-12bc6060d713",
   "metadata": {},
   "outputs": [],
   "source": [
    "my_dict = {1:'apple', 2:'ball'}"
   ]
  },
  {
   "cell_type": "code",
   "execution_count": 3,
   "id": "f70b2508-e2e1-42aa-929e-83aa014282bc",
   "metadata": {},
   "outputs": [
    {
     "name": "stdout",
     "output_type": "stream",
     "text": [
      "{1: 'apple', 2: 'ball'}\n"
     ]
    }
   ],
   "source": [
    "print(my_dict)"
   ]
  },
  {
   "cell_type": "code",
   "execution_count": 10,
   "id": "cad184f4-0fee-4f6a-bd69-deff4a17f830",
   "metadata": {},
   "outputs": [],
   "source": [
    "my_dict= {'name':'Jack', 'age': 26, 'address':'Manor Brook Dr'}"
   ]
  },
  {
   "cell_type": "code",
   "execution_count": 6,
   "id": "586e600a-50b6-4679-9619-03d8e8faa82e",
   "metadata": {},
   "outputs": [
    {
     "name": "stdout",
     "output_type": "stream",
     "text": [
      "Jack\n"
     ]
    }
   ],
   "source": [
    "print(my_dict['name'])"
   ]
  },
  {
   "cell_type": "code",
   "execution_count": 7,
   "id": "250c9d95-d586-4381-8132-b1b2d8ff3714",
   "metadata": {},
   "outputs": [
    {
     "name": "stdout",
     "output_type": "stream",
     "text": [
      "26\n"
     ]
    }
   ],
   "source": [
    "print(my_dict['age'])"
   ]
  },
  {
   "cell_type": "code",
   "execution_count": 8,
   "id": "7611813e-27eb-44d5-8afc-93f80ccc08bc",
   "metadata": {},
   "outputs": [
    {
     "name": "stdout",
     "output_type": "stream",
     "text": [
      "26\n"
     ]
    }
   ],
   "source": [
    "print(my_dict.get('age'))"
   ]
  },
  {
   "cell_type": "code",
   "execution_count": 11,
   "id": "990b7f50-e84e-44d7-a978-5f857b5637fb",
   "metadata": {},
   "outputs": [
    {
     "name": "stdout",
     "output_type": "stream",
     "text": [
      "Manor Brook Dr\n"
     ]
    }
   ],
   "source": [
    "print(my_dict.get('address'))"
   ]
  },
  {
   "cell_type": "code",
   "execution_count": 12,
   "id": "14ce18ea-daaa-4250-8834-f572152fe159",
   "metadata": {},
   "outputs": [],
   "source": [
    "my_dict['address'] = 'Manor Brook Ln'"
   ]
  },
  {
   "cell_type": "code",
   "execution_count": 13,
   "id": "bdf08e3a-1194-4de4-ae6d-18428a2b0b40",
   "metadata": {},
   "outputs": [
    {
     "name": "stdout",
     "output_type": "stream",
     "text": [
      "Manor Brook Ln\n"
     ]
    }
   ],
   "source": [
    "print(my_dict.get('address'))"
   ]
  },
  {
   "cell_type": "code",
   "execution_count": 14,
   "id": "96553122-e653-45cd-ac1f-efe01b7f72c4",
   "metadata": {},
   "outputs": [],
   "source": [
    "squares = {1:1, 2:4, 3:9, 4:16, 5:25}"
   ]
  },
  {
   "cell_type": "code",
   "execution_count": 15,
   "id": "d65e8f53-8eaa-4dd8-9080-32593f01b3e1",
   "metadata": {},
   "outputs": [
    {
     "name": "stdout",
     "output_type": "stream",
     "text": [
      "16\n"
     ]
    }
   ],
   "source": [
    "print(squares.pop(4))"
   ]
  },
  {
   "cell_type": "code",
   "execution_count": 16,
   "id": "d25fff4c-1d2c-41d9-8a57-9c13f946681f",
   "metadata": {},
   "outputs": [
    {
     "name": "stdout",
     "output_type": "stream",
     "text": [
      "{1: 1, 2: 4, 3: 9, 5: 25}\n"
     ]
    }
   ],
   "source": [
    "print(squares)"
   ]
  },
  {
   "cell_type": "code",
   "execution_count": 17,
   "id": "94d9d038-69c4-4635-a135-4e8b5b97b8ec",
   "metadata": {},
   "outputs": [],
   "source": [
    "squares.clear()"
   ]
  },
  {
   "cell_type": "code",
   "execution_count": 18,
   "id": "5f6fb087-15de-4dab-9e74-168dc22368c7",
   "metadata": {},
   "outputs": [
    {
     "name": "stdout",
     "output_type": "stream",
     "text": [
      "{}\n"
     ]
    }
   ],
   "source": [
    "print(squares)"
   ]
  },
  {
   "cell_type": "code",
   "execution_count": 19,
   "id": "31949f7e-dce0-438c-bac0-cf662dcf9aa9",
   "metadata": {},
   "outputs": [
    {
     "name": "stdout",
     "output_type": "stream",
     "text": [
      "\n",
      "Dictionary: {'january': 'Karen', 'february': 'Harold', 'march': 'Sam'}\n",
      "\n"
     ]
    }
   ],
   "source": [
    "# Initialize a dictionary containing top traders for each month in 2019\n",
    "top_traders_2019 = {\n",
    "  \"january\" : \"Karen\",\n",
    "  \"february\" : \"Harold\",\n",
    "  \"march\" : \"Sam\"\n",
    "}\n",
    "\n",
    "print()\n",
    "print(f\"Dictionary: {top_traders_2019}\")\n",
    "print()"
   ]
  },
  {
   "cell_type": "code",
   "execution_count": 20,
   "id": "5c454249-3ee8-478d-bd71-206bedd439aa",
   "metadata": {},
   "outputs": [],
   "source": [
    "# Initialize a dictionary\n",
    "trading_pnl = {\n",
    "    \"title\": \"Trading Log\",\n",
    "    \"03-18-2019\": -224,\n",
    "    \"03-19-2019\": 352,\n",
    "    \"03-20-2019\": 252,\n",
    "    \"03-21-2019\": 354,\n",
    "    \"03-22-2019\": -544,\n",
    "    \"03-23-2019\": -650,\n",
    "    \"03-24-2019\": 56,\n",
    "    \"03-25-2019\": 123,\n",
    "    \"03-26-2019\": -43,\n",
    "    \"03-27-2019\": 254,\n",
    "    \"03-28-2019\": 325,\n",
    "    \"03-29-2019\": -123,\n",
    "    \"03-30-2019\": 47,\n",
    "    \"03-31-2019\": 321,\n",
    "    \"04-01-2019\": 123,\n",
    "    \"04-02-2019\": 133,\n",
    "    \"04-03-2019\": -151,\n",
    "    \"04-04-2019\": 613,\n",
    "    \"04-05-2019\": 232,\n",
    "    \"04-06-2019\": -311\n",
    "}"
   ]
  },
  {
   "cell_type": "code",
   "execution_count": 21,
   "id": "a6b7bf34-3c6b-4ce3-a0b7-af83e8c89c0b",
   "metadata": {},
   "outputs": [
    {
     "name": "stdout",
     "output_type": "stream",
     "text": [
      "{'title': 'Trading Log', '03-18-2019': -224, '03-19-2019': 352, '03-20-2019': 252, '03-21-2019': 354, '03-22-2019': -544, '03-23-2019': -650, '03-24-2019': 56, '03-25-2019': 123, '03-26-2019': -43, '03-27-2019': 254, '03-28-2019': 325, '03-29-2019': -123, '03-30-2019': 47, '03-31-2019': 321, '04-01-2019': 123, '04-02-2019': 133, '04-03-2019': -151, '04-04-2019': 613, '04-05-2019': 232, '04-06-2019': -311}\n"
     ]
    }
   ],
   "source": [
    "print(trading_pnl)"
   ]
  },
  {
   "cell_type": "code",
   "execution_count": 22,
   "id": "8ef5b503-2147-4ab8-a5d0-da729f26ff4d",
   "metadata": {},
   "outputs": [
    {
     "name": "stdout",
     "output_type": "stream",
     "text": [
      "03-31-2019: 321\n",
      "\n"
     ]
    }
   ],
   "source": [
    "# Print out specific value of a key\n",
    "print(f\"03-31-2019: {trading_pnl['03-31-2019']}\")\n",
    "print()"
   ]
  },
  {
   "cell_type": "code",
   "execution_count": 23,
   "id": "205daa0e-2c54-4a43-8d6b-6a3b34da159f",
   "metadata": {},
   "outputs": [
    {
     "name": "stdout",
     "output_type": "stream",
     "text": [
      "{'title': 'Trading Log', '03-18-2019': -224, '03-19-2019': 352, '03-20-2019': 252, '03-21-2019': 354, '03-22-2019': -544, '03-23-2019': -650, '03-24-2019': 56, '03-25-2019': 123, '03-26-2019': -43, '03-27-2019': 254, '03-28-2019': 325, '03-29-2019': -123, '03-30-2019': 47, '03-31-2019': 321, '04-01-2019': 123, '04-02-2019': 133, '04-03-2019': -151, '04-04-2019': 613, '04-05-2019': 232, '04-06-2019': -311, '04-07-2019': 542}\n",
      "\n"
     ]
    }
   ],
   "source": [
    "# Modify a key value\n",
    "trading_pnl[\"04-07-2019\"] = 542\n",
    "print(trading_pnl)\n",
    "print()"
   ]
  },
  {
   "cell_type": "code",
   "execution_count": 24,
   "id": "f3760f3d-e177-4510-8e5d-1f9ebf608a74",
   "metadata": {},
   "outputs": [
    {
     "name": "stdout",
     "output_type": "stream",
     "text": [
      "Yes, '04-03-2019' is one of the keys in the trading_pnl dictionary\n",
      "\n"
     ]
    }
   ],
   "source": [
    "# Check if key exists\n",
    "if \"04-03-2019\" in trading_pnl:\n",
    "    print(\"Yes, '04-03-2019' is one of the keys in the trading_pnl dictionary\")\n",
    "print()"
   ]
  },
  {
   "cell_type": "code",
   "execution_count": 25,
   "id": "e5b6bcbd-f95e-4e43-9115-21a7ae2bd669",
   "metadata": {},
   "outputs": [
    {
     "name": "stdout",
     "output_type": "stream",
     "text": [
      "Value: Trading Log\n",
      "\n",
      "Value: -224\n",
      "\n",
      "Value: 352\n",
      "\n",
      "Value: 252\n",
      "\n",
      "Value: 354\n",
      "\n",
      "Value: -544\n",
      "\n",
      "Value: -650\n",
      "\n",
      "Value: 56\n",
      "\n",
      "Value: 123\n",
      "\n",
      "Value: -43\n",
      "\n",
      "Value: 254\n",
      "\n",
      "Value: 325\n",
      "\n",
      "Value: -123\n",
      "\n",
      "Value: 47\n",
      "\n",
      "Value: 321\n",
      "\n",
      "Value: 123\n",
      "\n",
      "Value: 133\n",
      "\n",
      "Value: -151\n",
      "\n",
      "Value: 613\n",
      "\n",
      "Value: 232\n",
      "\n",
      "Value: -311\n",
      "\n",
      "Value: 542\n",
      "\n"
     ]
    }
   ],
   "source": [
    "# Print out dict values\n",
    "for key in trading_pnl:\n",
    "    print(f\"Value: {trading_pnl[key]}\")\n",
    "    print()"
   ]
  },
  {
   "cell_type": "code",
   "execution_count": null,
   "id": "16b632b7-3fb2-49df-9fd9-4d53119101d8",
   "metadata": {},
   "outputs": [],
   "source": []
  }
 ],
 "metadata": {
  "kernelspec": {
   "display_name": "Python 3 (ipykernel)",
   "language": "python",
   "name": "python3"
  },
  "language_info": {
   "codemirror_mode": {
    "name": "ipython",
    "version": 3
   },
   "file_extension": ".py",
   "mimetype": "text/x-python",
   "name": "python",
   "nbconvert_exporter": "python",
   "pygments_lexer": "ipython3",
   "version": "3.9.12"
  }
 },
 "nbformat": 4,
 "nbformat_minor": 5
}
