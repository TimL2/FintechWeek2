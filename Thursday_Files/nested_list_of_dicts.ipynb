{
 "cells": [
  {
   "cell_type": "code",
   "execution_count": 2,
   "id": "d083c940-1ead-43b9-ada7-1f349b871d35",
   "metadata": {},
   "outputs": [],
   "source": [
    "# List of Dicts\n",
    "ceo_nested_dict = [\n",
    "    {\n",
    "        \"name\": \"Warren Buffet\",\n",
    "        \"age\": 88,\n",
    "        \"occupation\": \"CEO of Berkshire Hathaway\"\n",
    "    },\n",
    "    {\n",
    "        \"name\": \"Jeff Bezos\",\n",
    "        \"age\": 55,\n",
    "        \"occupation\": \"CEO of Amazon\"\n",
    "    },\n",
    "    {\n",
    "        \"name\": \"Harry Markowitz\",\n",
    "        \"age\": 91,\n",
    "        \"occupation\": \"Professor of Finance\"\n",
    "    }\n",
    "]"
   ]
  },
  {
   "cell_type": "code",
   "execution_count": 7,
   "id": "c6649e12-6c39-4b20-9839-f05c39c2cf95",
   "metadata": {},
   "outputs": [],
   "source": [
    "second_entry = ceo_nested_dict[1]\n",
    "second_entry_name = ceo_nested_dict[1][\"name\"]\n",
    "second_entry_age = ceo_nested_dict[1][\"age\"]\n",
    "second_entry_occupation = ceo_nested_dict[1][\"occupation\"]"
   ]
  },
  {
   "cell_type": "code",
   "execution_count": 8,
   "id": "0acd1a69-0023-41c0-b442-0c3d542b1866",
   "metadata": {},
   "outputs": [
    {
     "name": "stdout",
     "output_type": "stream",
     "text": [
      "The second entry in ceo_nested_dict is Jeff Bezos, a 55 year old CEO of Amazon.\n"
     ]
    }
   ],
   "source": [
    "print(f\"The second entry in ceo_nested_dict is {second_entry_name}, a {second_entry_age} year old {second_entry_occupation}.\")\n"
   ]
  },
  {
   "cell_type": "code",
   "execution_count": 10,
   "id": "f22409a0-837d-4518-b85b-1fe1487f1112",
   "metadata": {},
   "outputs": [
    {
     "name": "stdout",
     "output_type": "stream",
     "text": [
      "55\n"
     ]
    }
   ],
   "source": [
    "second_entry = ceo_nested_dict[1][\"age\"]\n",
    "print(second_entry)"
   ]
  },
  {
   "cell_type": "code",
   "execution_count": null,
   "id": "d55b2b08-677b-4edd-bc2c-f227b19092bc",
   "metadata": {},
   "outputs": [],
   "source": []
  }
 ],
 "metadata": {
  "kernelspec": {
   "display_name": "Python 3 (ipykernel)",
   "language": "python",
   "name": "python3"
  },
  "language_info": {
   "codemirror_mode": {
    "name": "ipython",
    "version": 3
   },
   "file_extension": ".py",
   "mimetype": "text/x-python",
   "name": "python",
   "nbconvert_exporter": "python",
   "pygments_lexer": "ipython3",
   "version": "3.9.12"
  }
 },
 "nbformat": 4,
 "nbformat_minor": 5
}
