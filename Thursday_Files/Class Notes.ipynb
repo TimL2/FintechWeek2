{
 "cells": [
  {
   "cell_type": "code",
   "execution_count": 1,
   "id": "14ff3071-5c8f-4993-baba-3b638c518464",
   "metadata": {},
   "outputs": [],
   "source": [
    "values = [\"1\",\"2\",1,2]"
   ]
  },
  {
   "cell_type": "code",
   "execution_count": 2,
   "id": "e422661d-a476-4ec8-92f6-e90c851e48bd",
   "metadata": {},
   "outputs": [
    {
     "name": "stdout",
     "output_type": "stream",
     "text": [
      "1\n",
      "2\n",
      "1\n",
      "2\n"
     ]
    }
   ],
   "source": [
    "for value in values:\n",
    "    print(value)"
   ]
  },
  {
   "cell_type": "code",
   "execution_count": 3,
   "id": "5f9103c6-a223-4477-a516-ca69d60cfbda",
   "metadata": {},
   "outputs": [
    {
     "data": {
      "text/plain": [
       "'1'"
      ]
     },
     "execution_count": 3,
     "metadata": {},
     "output_type": "execute_result"
    }
   ],
   "source": [
    "values[0]"
   ]
  },
  {
   "cell_type": "code",
   "execution_count": 4,
   "id": "1f2d5491-ef1b-43be-b6d0-4dfa89c696f0",
   "metadata": {},
   "outputs": [
    {
     "data": {
      "text/plain": [
       "1"
      ]
     },
     "execution_count": 4,
     "metadata": {},
     "output_type": "execute_result"
    }
   ],
   "source": [
    "values[2]"
   ]
  },
  {
   "cell_type": "code",
   "execution_count": null,
   "id": "c26c84f6-c4e5-4dff-a827-2e4606c17dd9",
   "metadata": {},
   "outputs": [],
   "source": []
  }
 ],
 "metadata": {
  "kernelspec": {
   "display_name": "Python 3 (ipykernel)",
   "language": "python",
   "name": "python3"
  },
  "language_info": {
   "codemirror_mode": {
    "name": "ipython",
    "version": 3
   },
   "file_extension": ".py",
   "mimetype": "text/x-python",
   "name": "python",
   "nbconvert_exporter": "python",
   "pygments_lexer": "ipython3",
   "version": "3.9.12"
  }
 },
 "nbformat": 4,
 "nbformat_minor": 5
}
