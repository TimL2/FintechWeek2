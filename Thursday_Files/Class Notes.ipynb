{
 "cells": [
  {
   "cell_type": "code",
   "execution_count": 1,
   "id": "14ff3071-5c8f-4993-baba-3b638c518464",
   "metadata": {},
   "outputs": [],
   "source": [
    "values = [\"1\",\"2\",1,2]"
   ]
  },
  {
   "cell_type": "code",
   "execution_count": 2,
   "id": "e422661d-a476-4ec8-92f6-e90c851e48bd",
   "metadata": {},
   "outputs": [
    {
     "name": "stdout",
     "output_type": "stream",
     "text": [
      "1\n",
      "2\n",
      "1\n",
      "2\n"
     ]
    }
   ],
   "source": [
    "for value in values:\n",
    "    print(value)"
   ]
  },
  {
   "cell_type": "code",
   "execution_count": 3,
   "id": "5f9103c6-a223-4477-a516-ca69d60cfbda",
   "metadata": {},
   "outputs": [
    {
     "data": {
      "text/plain": [
       "'1'"
      ]
     },
     "execution_count": 3,
     "metadata": {},
     "output_type": "execute_result"
    }
   ],
   "source": [
    "values[0]"
   ]
  },
  {
   "cell_type": "code",
   "execution_count": 4,
   "id": "1f2d5491-ef1b-43be-b6d0-4dfa89c696f0",
   "metadata": {},
   "outputs": [
    {
     "data": {
      "text/plain": [
       "1"
      ]
     },
     "execution_count": 4,
     "metadata": {},
     "output_type": "execute_result"
    }
   ],
   "source": [
    "values[2]"
   ]
  },
  {
   "cell_type": "code",
   "execution_count": 5,
   "id": "c26c84f6-c4e5-4dff-a827-2e4606c17dd9",
   "metadata": {},
   "outputs": [],
   "source": [
    "count = 0\n",
    "total = 0\n",
    "average = 0\n",
    "minimum = 0\n",
    "maximum = 0"
   ]
  },
  {
   "cell_type": "code",
   "execution_count": 6,
   "id": "cdac3559-3829-49cc-b0cd-ac6d9cd1a60a",
   "metadata": {},
   "outputs": [],
   "source": [
    "cash_tips = [22,10,30,45,54,60,56]"
   ]
  },
  {
   "cell_type": "code",
   "execution_count": 7,
   "id": "cd4e9ad9-eb7d-4cac-b454-8322b5734c4c",
   "metadata": {},
   "outputs": [
    {
     "name": "stdout",
     "output_type": "stream",
     "text": [
      "22\n",
      "10\n",
      "30\n",
      "45\n",
      "54\n",
      "60\n",
      "56\n"
     ]
    }
   ],
   "source": [
    "for tip in cash_tips:\n",
    "    print(tip)"
   ]
  },
  {
   "cell_type": "code",
   "execution_count": 8,
   "id": "cf891e16-c2eb-4ef6-ac21-191c75f22bbb",
   "metadata": {},
   "outputs": [],
   "source": [
    "for tip in cash_tips:\n",
    "    total += tip\n",
    "    count += 1\n",
    "    \n",
    "    if minimum ==0:\n",
    "        minimum = tip\n",
    "    elif tip < minimum:\n",
    "        minimum = tip\n",
    "    if tip > maximum:\n",
    "        maximum = tip\n",
    "        \n",
    "average = round(total / count, 2)"
   ]
  },
  {
   "cell_type": "code",
   "execution_count": 9,
   "id": "00106f01-c391-4285-93ed-f150c7146c21",
   "metadata": {},
   "outputs": [],
   "source": [
    "my_dict = {}"
   ]
  },
  {
   "cell_type": "code",
   "execution_count": 10,
   "id": "deee5aa4-419f-442e-b932-b19fceba835c",
   "metadata": {},
   "outputs": [],
   "source": [
    "my_dict = {1:'apple',2:'ball'}"
   ]
  },
  {
   "cell_type": "code",
   "execution_count": 11,
   "id": "e56682ee-93e7-43dd-933f-1caa987eebb0",
   "metadata": {},
   "outputs": [
    {
     "name": "stdout",
     "output_type": "stream",
     "text": [
      "{1: 'apple', 2: 'ball'}\n"
     ]
    }
   ],
   "source": [
    "print(my_dict)"
   ]
  },
  {
   "cell_type": "code",
   "execution_count": 13,
   "id": "57bca63d-b19a-42d2-b1de-bcd6093e3fca",
   "metadata": {},
   "outputs": [
    {
     "name": "stdout",
     "output_type": "stream",
     "text": [
      "None\n"
     ]
    }
   ],
   "source": [
    "print(my_dict.get('age'))"
   ]
  },
  {
   "cell_type": "code",
   "execution_count": 14,
   "id": "9697ea26-2bea-4e07-80cd-19fb4a66a8c2",
   "metadata": {},
   "outputs": [
    {
     "ename": "SyntaxError",
     "evalue": "invalid syntax (919536774.py, line 1)",
     "output_type": "error",
     "traceback": [
      "\u001b[1;36m  Input \u001b[1;32mIn [14]\u001b[1;36m\u001b[0m\n\u001b[1;33m    def main()\u001b[0m\n\u001b[1;37m              ^\u001b[0m\n\u001b[1;31mSyntaxError\u001b[0m\u001b[1;31m:\u001b[0m invalid syntax\n"
     ]
    }
   ],
   "source": [
    "def main()\n",
    "    print(\"hey from main\")"
   ]
  },
  {
   "cell_type": "code",
   "execution_count": 15,
   "id": "86c512cf-4049-4e01-a084-9fb526add2ac",
   "metadata": {},
   "outputs": [],
   "source": [
    "def add_num(x, y):\n",
    "    return x + y"
   ]
  },
  {
   "cell_type": "code",
   "execution_count": 16,
   "id": "dd394363-5214-4c39-ae88-b7627cd225b2",
   "metadata": {},
   "outputs": [
    {
     "name": "stdout",
     "output_type": "stream",
     "text": [
      "5\n"
     ]
    }
   ],
   "source": [
    "print(add_num(3, 2))"
   ]
  },
  {
   "cell_type": "code",
   "execution_count": null,
   "id": "dd841a6e-dcd4-45e9-8c15-6c68286172ee",
   "metadata": {},
   "outputs": [],
   "source": []
  }
 ],
 "metadata": {
  "kernelspec": {
   "display_name": "Python 3 (ipykernel)",
   "language": "python",
   "name": "python3"
  },
  "language_info": {
   "codemirror_mode": {
    "name": "ipython",
    "version": 3
   },
   "file_extension": ".py",
   "mimetype": "text/x-python",
   "name": "python",
   "nbconvert_exporter": "python",
   "pygments_lexer": "ipython3",
   "version": "3.9.12"
  }
 },
 "nbformat": 4,
 "nbformat_minor": 5
}
