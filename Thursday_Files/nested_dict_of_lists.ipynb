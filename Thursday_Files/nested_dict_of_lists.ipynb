{
 "cells": [
  {
   "cell_type": "code",
   "execution_count": 5,
   "id": "76eb289a-1f94-4813-b217-dd4e3ac1e92b",
   "metadata": {},
   "outputs": [],
   "source": [
    "# Dict\n",
    "stocks_dict = {\n",
    "    \"APPL\": 101.32,\n",
    "    \"MU\": 43.4,\n",
    "    \"AMD\": 23.12,\n",
    "    \"TWTR\": 25\n",
    "}"
   ]
  },
  {
   "cell_type": "code",
   "execution_count": 6,
   "id": "6b87167a-5dc5-4819-aa55-04af32fe8fb6",
   "metadata": {},
   "outputs": [],
   "source": [
    "# Dictionary of Lists\n",
    "stocks_nested_list = {\n",
    "    \"APPL\": [\"Apple\", 101.32, \"NASDAQ\", 937.7],\n",
    "    \"MU\": [\"Micron Technology\", 32.12, \"NASDAQ\", 48.03],\n",
    "    \"AMD\": [\"Advanced Micro Devices\", 23.12, \"NASDAQ\", 29.94],\n",
    "    \"TWTR\": [\"Twitter\", 34.40, \"NASDAQ\", 26.42]\n",
    "}"
   ]
  },
  {
   "cell_type": "code",
   "execution_count": 9,
   "id": "68f87414-aa6b-4f46-9e27-d39cc068b802",
   "metadata": {},
   "outputs": [
    {
     "name": "stdout",
     "output_type": "stream",
     "text": [
      "Apple\n"
     ]
    }
   ],
   "source": [
    "appl_entry = stocks_nested_list[\"APPL\"][0]\n",
    "print(appl_entry)"
   ]
  },
  {
   "cell_type": "code",
   "execution_count": null,
   "id": "febdac18-3a50-4d65-9611-09df2e5c90be",
   "metadata": {},
   "outputs": [],
   "source": []
  }
 ],
 "metadata": {
  "kernelspec": {
   "display_name": "Python 3 (ipykernel)",
   "language": "python",
   "name": "python3"
  },
  "language_info": {
   "codemirror_mode": {
    "name": "ipython",
    "version": 3
   },
   "file_extension": ".py",
   "mimetype": "text/x-python",
   "name": "python",
   "nbconvert_exporter": "python",
   "pygments_lexer": "ipython3",
   "version": "3.9.12"
  }
 },
 "nbformat": 4,
 "nbformat_minor": 5
}
