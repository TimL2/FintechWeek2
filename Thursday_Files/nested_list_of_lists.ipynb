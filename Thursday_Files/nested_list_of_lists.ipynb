{
 "cells": [
  {
   "cell_type": "code",
   "execution_count": 3,
   "id": "08ffcbea-35bb-4a54-95b6-6ab61a0a9229",
   "metadata": {},
   "outputs": [],
   "source": [
    "# List\n",
    "ceo_list = [\"Warren\", \"Jack\", \"Harry\"]"
   ]
  },
  {
   "cell_type": "code",
   "execution_count": 2,
   "id": "2d9f1e50-4374-4d99-bc5e-b419d56a7c9d",
   "metadata": {},
   "outputs": [],
   "source": [
    "# List of Lists\n",
    "ceo_nested_list = [\n",
    "    [\"Warren Buffet\", 88, \"CEO of Berkshire Hathaway\"],\n",
    "    [\"Jeff Bezos\", 55, \"CEO of Amazon\"],\n",
    "    [\"Harry Markowitz\", 91, \"Professor of Finance\"]\n",
    "]"
   ]
  },
  {
   "cell_type": "code",
   "execution_count": 17,
   "id": "849dfbc7-d443-4fc0-b199-35a8692c2392",
   "metadata": {},
   "outputs": [],
   "source": [
    "first_entry = ceo_nested_list[0]\n",
    "first_entry_name = ceo_nested_list[0][0]\n",
    "first_entry_age = ceo_nested_list[0][1]\n",
    "first_entry_occupation = ceo_nested_list[0][2]"
   ]
  },
  {
   "cell_type": "code",
   "execution_count": 18,
   "id": "908d46ee-5569-48dc-85a8-424b4eddbc6a",
   "metadata": {},
   "outputs": [
    {
     "name": "stdout",
     "output_type": "stream",
     "text": [
      "The first entry in employees_nested_list is: ['Warren Buffet', 88, 'CEO of Berkshire Hathaway']\n",
      "Warren Buffet is 88 years old, serving as CEO of Berkshire Hathaway.\n"
     ]
    }
   ],
   "source": [
    "print(\"The first entry in employees_nested_list is:\", first_entry)\n",
    "print(f\"{first_entry_name} is {first_entry_age} years old, serving as {first_entry_occupation}.\")"
   ]
  },
  {
   "cell_type": "code",
   "execution_count": null,
   "id": "cc8a6140-ea22-4b02-943b-0c7fcb0ec4a0",
   "metadata": {},
   "outputs": [],
   "source": []
  }
 ],
 "metadata": {
  "kernelspec": {
   "display_name": "Python 3 (ipykernel)",
   "language": "python",
   "name": "python3"
  },
  "language_info": {
   "codemirror_mode": {
    "name": "ipython",
    "version": 3
   },
   "file_extension": ".py",
   "mimetype": "text/x-python",
   "name": "python",
   "nbconvert_exporter": "python",
   "pygments_lexer": "ipython3",
   "version": "3.9.12"
  }
 },
 "nbformat": 4,
 "nbformat_minor": 5
}
