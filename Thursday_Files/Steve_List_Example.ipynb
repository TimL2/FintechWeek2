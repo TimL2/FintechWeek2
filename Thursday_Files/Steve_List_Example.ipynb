{
 "cells": [
  {
   "cell_type": "code",
   "execution_count": 1,
   "id": "f5c94f9e-7765-4adf-b3f8-d32baa87b5ab",
   "metadata": {},
   "outputs": [],
   "source": [
    "pokemon = [\"Pikachu\", \"Charizard\", \"Bulbasaur\", \"Gyarados\", \"Dragonite\", \"Onyx\"]"
   ]
  },
  {
   "cell_type": "code",
   "execution_count": 2,
   "id": "b12b4347-ee31-4540-a719-08014a889aea",
   "metadata": {},
   "outputs": [
    {
     "name": "stdout",
     "output_type": "stream",
     "text": [
      "['Pikachu', 'Charizard', 'Bulbasaur', 'Gyarados', 'Dragonite']\n"
     ]
    }
   ],
   "source": [
    "pokemon.pop()\n",
    "print(pokemon)\n",
    "# removes the last item from the list"
   ]
  },
  {
   "cell_type": "code",
   "execution_count": 3,
   "id": "572b4d26-3e0b-4e67-a643-d72a9af1ccca",
   "metadata": {},
   "outputs": [],
   "source": [
    "pokemon.append(\"NewPokemon\")\n",
    "# adds item to the end of a list"
   ]
  },
  {
   "cell_type": "code",
   "execution_count": 4,
   "id": "756e9d99-1d78-46a9-937f-87033de3aac4",
   "metadata": {},
   "outputs": [
    {
     "name": "stdout",
     "output_type": "stream",
     "text": [
      "['Pikachu', 'Charizard', 'Bulbasaur', 'Gyarados', 'Dragonite', 'NewPokemon']\n"
     ]
    }
   ],
   "source": [
    "print(pokemon)"
   ]
  },
  {
   "cell_type": "code",
   "execution_count": 5,
   "id": "a5c15831-3cfe-4060-9c14-0bed9ee04e2e",
   "metadata": {},
   "outputs": [
    {
     "name": "stdout",
     "output_type": "stream",
     "text": [
      "['Pikachu', 'Charizard', 'Bulbasaur', 'Dragonite', 'NewPokemon']\n"
     ]
    }
   ],
   "source": [
    "pokemon.pop(3)\n",
    "print(pokemon)\n",
    "# removes specific index"
   ]
  },
  {
   "cell_type": "code",
   "execution_count": 6,
   "id": "553f70ab-655e-4a93-9ac0-17ef39cf734a",
   "metadata": {},
   "outputs": [
    {
     "name": "stdout",
     "output_type": "stream",
     "text": [
      "['Pikachu', 'Charizard', 'Bulbasaur', 'Dragonite']\n"
     ]
    }
   ],
   "source": [
    "pokemon.remove(\"NewPokemon\")\n",
    "print(pokemon)\n",
    "# removes item by name"
   ]
  },
  {
   "cell_type": "code",
   "execution_count": 7,
   "id": "0132b13c-d416-4a5d-a751-8a62301f162e",
   "metadata": {},
   "outputs": [
    {
     "data": {
      "text/plain": [
       "['Pikachu', 'Bulbasaur']"
      ]
     },
     "execution_count": 7,
     "metadata": {},
     "output_type": "execute_result"
    }
   ],
   "source": [
    "pokemon[::2]\n",
    "# counts every other item from beginning to the end"
   ]
  },
  {
   "cell_type": "code",
   "execution_count": 8,
   "id": "6b0ff56b-ef19-41af-8e81-61bae1dbda66",
   "metadata": {},
   "outputs": [
    {
     "name": "stdout",
     "output_type": "stream",
     "text": [
      "4\n"
     ]
    }
   ],
   "source": [
    "print(len(pokemon))\n",
    "# number of items in list"
   ]
  },
  {
   "cell_type": "code",
   "execution_count": 9,
   "id": "8f307410-1796-48f6-8a4c-035c683c8f5a",
   "metadata": {},
   "outputs": [
    {
     "name": "stdout",
     "output_type": "stream",
     "text": [
      "['NewPokemon', 'Charizard', 'Bulbasaur', 'Dragonite']\n"
     ]
    }
   ],
   "source": [
    "pokemon[0] = \"NewPokemon\"\n",
    "print(pokemon)"
   ]
  },
  {
   "cell_type": "code",
   "execution_count": null,
   "id": "2b8e46bc-6014-4c81-8c75-c78dc3da0aed",
   "metadata": {},
   "outputs": [],
   "source": []
  }
 ],
 "metadata": {
  "kernelspec": {
   "display_name": "Python 3 (ipykernel)",
   "language": "python",
   "name": "python3"
  },
  "language_info": {
   "codemirror_mode": {
    "name": "ipython",
    "version": 3
   },
   "file_extension": ".py",
   "mimetype": "text/x-python",
   "name": "python",
   "nbconvert_exporter": "python",
   "pygments_lexer": "ipython3",
   "version": "3.9.12"
  }
 },
 "nbformat": 4,
 "nbformat_minor": 5
}
