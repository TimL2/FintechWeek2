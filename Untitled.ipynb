{
 "cells": [
  {
   "cell_type": "code",
   "execution_count": 1,
   "id": "9582e284-71ae-4283-9208-18bb05e640c6",
   "metadata": {},
   "outputs": [],
   "source": [
    "import numpy"
   ]
  },
  {
   "cell_type": "code",
   "execution_count": 2,
   "id": "fd11fd35-2494-443c-a835-883747233bb2",
   "metadata": {},
   "outputs": [
    {
     "name": "stdout",
     "output_type": "stream",
     "text": [
      "<module 'numpy' from 'C:\\\\Users\\\\tjfoo\\\\anaconda3\\\\envs\\\\dev\\\\lib\\\\site-packages\\\\numpy\\\\__init__.py'>\n"
     ]
    }
   ],
   "source": [
    "print(numpy)"
   ]
  },
  {
   "cell_type": "code",
   "execution_count": 3,
   "id": "86fd4223-7aa9-4d6f-b21d-eae250ef0ef8",
   "metadata": {},
   "outputs": [],
   "source": [
    "customers = [\n",
    "    { \"first_name\": \"Tom\", \"last_name\": \"Bell\", \"revenue\": 0 },\n",
    "    { \"first_name\": \"Maggie\", \"last_name\": \"Johnson\", \"revenue\": 1032 },\n",
    "    { \"first_name\": \"John\", \"last_name\": \"Spectre\", \"revenue\": 2543 },\n",
    "    { \"first_name\": \"Susy\", \"last_name\": \"Simmons\", \"revenue\": 5322 }\n",
    "]"
   ]
  },
  {
   "cell_type": "code",
   "execution_count": 4,
   "id": "5e4dd583-4909-427f-ba9c-253f8fbde030",
   "metadata": {},
   "outputs": [],
   "source": [
    "def create_greeting(first_name, last_name, revenue):\n",
    "    # @TODO: YOUR CODE HERE!\n",
    "    greeting = f\"Well hi there {customers.items(first_name)}\"\n",
    "    return greeting"
   ]
  },
  {
   "cell_type": "code",
   "execution_count": 6,
   "id": "8e60db1d-40ee-4cdb-9ac8-a0abbffb6387",
   "metadata": {},
   "outputs": [
    {
     "ename": "AttributeError",
     "evalue": "'list' object has no attribute 'items'",
     "output_type": "error",
     "traceback": [
      "\u001b[1;31m---------------------------------------------------------------------------\u001b[0m",
      "\u001b[1;31mAttributeError\u001b[0m                            Traceback (most recent call last)",
      "\u001b[1;32m~\\AppData\\Local\\Temp\\ipykernel_39260\\3357455633.py\u001b[0m in \u001b[0;36m<module>\u001b[1;34m\u001b[0m\n\u001b[1;32m----> 1\u001b[1;33m \u001b[0mcustomers\u001b[0m\u001b[1;33m.\u001b[0m\u001b[0mitems\u001b[0m\u001b[1;33m(\u001b[0m\u001b[1;34m'Tom'\u001b[0m\u001b[1;33m)\u001b[0m\u001b[1;33m\u001b[0m\u001b[1;33m\u001b[0m\u001b[0m\n\u001b[0m",
      "\u001b[1;31mAttributeError\u001b[0m: 'list' object has no attribute 'items'"
     ]
    }
   ],
   "source": [
    "customers.items('Tom')"
   ]
  },
  {
   "cell_type": "code",
   "execution_count": 7,
   "id": "4b405324-eff6-43e3-8177-b1f8e562b829",
   "metadata": {},
   "outputs": [
    {
     "name": "stdout",
     "output_type": "stream",
     "text": [
      "first_name : Tom\n",
      "last_name : Bell\n",
      "revenue : 0\n",
      "first_name : Maggie\n",
      "last_name : Johnson\n",
      "revenue : 1032\n",
      "first_name : John\n",
      "last_name : Spectre\n",
      "revenue : 2543\n",
      "first_name : Susy\n",
      "last_name : Simmons\n",
      "revenue : 5322\n"
     ]
    }
   ],
   "source": [
    "for index in range(len(customers)):\n",
    "    for key, val in customers[index].items():\n",
    "        print(\"{} : {}\".format(key, val))"
   ]
  },
  {
   "cell_type": "code",
   "execution_count": 8,
   "id": "6004fdaa-4f47-41fe-a280-bf1c34e0b4d3",
   "metadata": {},
   "outputs": [
    {
     "ename": "TypeError",
     "evalue": "list indices must be integers or slices, not str",
     "output_type": "error",
     "traceback": [
      "\u001b[1;31m---------------------------------------------------------------------------\u001b[0m",
      "\u001b[1;31mTypeError\u001b[0m                                 Traceback (most recent call last)",
      "\u001b[1;32m~\\AppData\\Local\\Temp\\ipykernel_39260\\1998519928.py\u001b[0m in \u001b[0;36m<module>\u001b[1;34m\u001b[0m\n\u001b[1;32m----> 1\u001b[1;33m \u001b[0mcustomers\u001b[0m\u001b[1;33m[\u001b[0m\u001b[1;34m\"Tom\"\u001b[0m\u001b[1;33m]\u001b[0m\u001b[1;33m\u001b[0m\u001b[1;33m\u001b[0m\u001b[0m\n\u001b[0m",
      "\u001b[1;31mTypeError\u001b[0m: list indices must be integers or slices, not str"
     ]
    }
   ],
   "source": [
    "customers[\"Tom\"]"
   ]
  },
  {
   "cell_type": "code",
   "execution_count": 17,
   "id": "927f45f1-ada1-41d1-8abc-8f2f376cfa21",
   "metadata": {},
   "outputs": [
    {
     "name": "stdout",
     "output_type": "stream",
     "text": [
      "first_name\n"
     ]
    }
   ],
   "source": [
    "print(first_name)"
   ]
  },
  {
   "cell_type": "raw",
   "id": "ef362a06-20ca-4014-b81f-bb0aa6ab510d",
   "metadata": {},
   "source": [
    "import numpy"
   ]
  },
  {
   "cell_type": "code",
   "execution_count": 19,
   "id": "f301de6b-f8b8-454b-b0ef-2f3fd4dafd99",
   "metadata": {},
   "outputs": [],
   "source": [
    "import numpy_financial as npf"
   ]
  },
  {
   "cell_type": "code",
   "execution_count": 20,
   "id": "ba191aac-08ec-4fc0-81a1-b73927e627ce",
   "metadata": {},
   "outputs": [],
   "source": [
    "interest_rate = .1\n",
    "cash_flows = [-1000, 400, 400, 400, 400]\n",
    "net_present_value = npf.npv(interest_rate, cash_flows)"
   ]
  },
  {
   "cell_type": "code",
   "execution_count": 21,
   "id": "3b2daf9d-7125-4c71-9ce6-6d3b5cecdea9",
   "metadata": {},
   "outputs": [
    {
     "name": "stdout",
     "output_type": "stream",
     "text": [
      "NPV = 267.94617853971704\n"
     ]
    }
   ],
   "source": [
    "print(f\"NPV = {net_present_value}\")"
   ]
  },
  {
   "cell_type": "code",
   "execution_count": 22,
   "id": "a55631f3-a7ef-4388-a194-3091d35ab74c",
   "metadata": {},
   "outputs": [],
   "source": [
    "from pathlib import Path"
   ]
  },
  {
   "cell_type": "code",
   "execution_count": 23,
   "id": "3728875e-ea64-4350-bc88-e6c2874c4923",
   "metadata": {},
   "outputs": [
    {
     "name": "stdout",
     "output_type": "stream",
     "text": [
      "current working directory: C:\\Users\\tjfoo\\Desktop\\Fintech\\Week2\\FintechWeek2\n"
     ]
    }
   ],
   "source": [
    "print(f\"current working directory: {Path.cwd()}\")"
   ]
  },
  {
   "cell_type": "code",
   "execution_count": 31,
   "id": "c3f4201a-bec8-49ea-a82c-f32553cc9c7a",
   "metadata": {},
   "outputs": [
    {
     "name": "stdout",
     "output_type": "stream",
     "text": [
      "Is it possible to read this??\n"
     ]
    }
   ],
   "source": [
    "filepath = Path('C:/Users/tjfoo/Desktop/Fintech/Week2/FintechWeek2/file.txt')\n",
    "with open(filepath, \"r\") as file:\n",
    "    text = file.read()\n",
    "    print(text)"
   ]
  },
  {
   "cell_type": "code",
   "execution_count": 38,
   "id": "2cb78127-f5d7-4bae-8746-44f88c01a53a",
   "metadata": {},
   "outputs": [
    {
     "name": "stdout",
     "output_type": "stream",
     "text": [
      "<module 'csv' from 'C:\\\\Users\\\\tjfoo\\\\anaconda3\\\\envs\\\\dev\\\\lib\\\\csv.py'>\n"
     ]
    }
   ],
   "source": [
    "from pathlib import Path\n",
    "import csv\n",
    "\n",
    "csvpath = Path(\"C:/Users/tjfoo/Desktop/Fintech/Week2/FintechWeek2/sales.csv\")\n",
    "\n",
    "with open(csvpath, \"r\") as csvfile:\n",
    "    csvreader = csv.reader(csvfile, delimiter=\",\")\n",
    "    \n",
    "    print(csv)"
   ]
  },
  {
   "cell_type": "code",
   "execution_count": null,
   "id": "7845f87e-67f0-46f3-965f-684107bff8e9",
   "metadata": {},
   "outputs": [],
   "source": []
  }
 ],
 "metadata": {
  "kernelspec": {
   "display_name": "Python 3 (ipykernel)",
   "language": "python",
   "name": "python3"
  },
  "language_info": {
   "codemirror_mode": {
    "name": "ipython",
    "version": 3
   },
   "file_extension": ".py",
   "mimetype": "text/x-python",
   "name": "python",
   "nbconvert_exporter": "python",
   "pygments_lexer": "ipython3",
   "version": "3.7.13"
  }
 },
 "nbformat": 4,
 "nbformat_minor": 5
}
