{
 "cells": [
  {
   "cell_type": "code",
   "execution_count": 1,
   "id": "14187228-9d9b-4e3c-b804-47e6c565447e",
   "metadata": {},
   "outputs": [
    {
     "name": "stdout",
     "output_type": "stream",
     "text": [
      "Hello World\n"
     ]
    }
   ],
   "source": [
    "print(\"Hello World\")"
   ]
  },
  {
   "cell_type": "code",
   "execution_count": 2,
   "id": "ca314aae-8ec3-4f6e-9b80-09d822dd02c3",
   "metadata": {},
   "outputs": [
    {
     "name": "stdout",
     "output_type": "stream",
     "text": [
      "Hello World from a new cell\n"
     ]
    }
   ],
   "source": [
    "print(\"Hello World from a new cell\")"
   ]
  },
  {
   "cell_type": "code",
   "execution_count": null,
   "id": "7f70b44b-02fb-4d84-b6a3-cf1316f5d4ae",
   "metadata": {},
   "outputs": [],
   "source": []
  }
 ],
 "metadata": {
  "kernelspec": {
   "display_name": "Python 3 (ipykernel)",
   "language": "python",
   "name": "python3"
  },
  "language_info": {
   "codemirror_mode": {
    "name": "ipython",
    "version": 3
   },
   "file_extension": ".py",
   "mimetype": "text/x-python",
   "name": "python",
   "nbconvert_exporter": "python",
   "pygments_lexer": "ipython3",
   "version": "3.9.12"
  }
 },
 "nbformat": 4,
 "nbformat_minor": 5
}
